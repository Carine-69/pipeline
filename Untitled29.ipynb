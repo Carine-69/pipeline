{
  "nbformat": 4,
  "nbformat_minor": 0,
  "metadata": {
    "colab": {
      "provenance": [],
      "authorship_tag": "ABX9TyNfPqvlfM5VsVZUYkNGoc4y",
      "include_colab_link": true
    },
    "kernelspec": {
      "name": "python3",
      "display_name": "Python 3"
    },
    "language_info": {
      "name": "python"
    }
  },
  "cells": [
    {
      "cell_type": "markdown",
      "metadata": {
        "id": "view-in-github",
        "colab_type": "text"
      },
      "source": [
        "<a href=\"https://colab.research.google.com/github/Carine-69/pipeline/blob/main/Untitled29.ipynb\" target=\"_parent\"><img src=\"https://colab.research.google.com/assets/colab-badge.svg\" alt=\"Open In Colab\"/></a>"
      ]
    },
    {
      "cell_type": "code",
      "execution_count": 1,
      "metadata": {
        "id": "mGU8KtrgpUdy"
      },
      "outputs": [],
      "source": [
        "#!/usr/bin/env python3\n",
        "import pandas as pd\n",
        "import numpy as np"
      ]
    },
    {
      "cell_type": "code",
      "source": [
        "def from_numpy(array):\n",
        "\n",
        "    # Get the number of columns in the array\n",
        "    num_cols = array.shape[1]\n",
        "\n",
        "    # Create column labels until the number of columns is reached\n",
        "    column_labels = [chr(65 + i) for i in range(num_cols)]\n",
        "\n",
        "    # Create and return the DataFrame\n",
        "    df = pd.DataFrame(array, columns=column_labels)\n",
        "    return df"
      ],
      "metadata": {
        "id": "4Co1ItrRpzct"
      },
      "execution_count": 5,
      "outputs": []
    }
  ]
}