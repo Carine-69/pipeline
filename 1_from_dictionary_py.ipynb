{
  "nbformat": 4,
  "nbformat_minor": 0,
  "metadata": {
    "colab": {
      "provenance": [],
      "authorship_tag": "ABX9TyPPCckXnOf/aDloSLQg7Fkp",
      "include_colab_link": true
    },
    "kernelspec": {
      "name": "python3",
      "display_name": "Python 3"
    },
    "language_info": {
      "name": "python"
    }
  },
  "cells": [
    {
      "cell_type": "markdown",
      "metadata": {
        "id": "view-in-github",
        "colab_type": "text"
      },
      "source": [
        "<a href=\"https://colab.research.google.com/github/Carine-69/pipeline/blob/main/1_from_dictionary_py.ipynb\" target=\"_parent\"><img src=\"https://colab.research.google.com/assets/colab-badge.svg\" alt=\"Open In Colab\"/></a>"
      ]
    },
    {
      "cell_type": "code",
      "execution_count": 10,
      "metadata": {
        "id": "mGU8KtrgpUdy"
      },
      "outputs": [],
      "source": [
        "#!/usr/bin/env python3\n",
        "import pandas as pd\n",
        "import numpy as np"
      ]
    },
    {
      "cell_type": "code",
      "source": [
        "data_columns = {\n",
        "    'first': [0.0,0.5,1.0,1.5],\n",
        "    'second': ['one', 'two', 'three', 'four']\n",
        "}\n",
        "\n",
        "row_labels = ['A','B','C','D']\n",
        "\n",
        "df = pd.DataFrame(data_columns, index=row_labels)\n",
        "\n",
        "print(df)"
      ],
      "metadata": {
        "colab": {
          "base_uri": "https://localhost:8080/"
        },
        "id": "4Co1ItrRpzct",
        "outputId": "aa249dda-1bf1-492f-c460-85b314fb3982"
      },
      "execution_count": 12,
      "outputs": [
        {
          "output_type": "stream",
          "name": "stdout",
          "text": [
            "   first second\n",
            "A    0.0    one\n",
            "B    0.5    two\n",
            "C    1.0  three\n",
            "D    1.5   four\n"
          ]
        }
      ]
    }
  ]
}